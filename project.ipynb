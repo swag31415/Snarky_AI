{
 "cells": [
  {
   "cell_type": "code",
   "execution_count": 1,
   "metadata": {},
   "outputs": [],
   "source": [
    "import numpy as np\n",
    "import pandas as pd"
   ]
  },
  {
   "attachments": {},
   "cell_type": "markdown",
   "metadata": {},
   "source": [
    "# Load the Data"
   ]
  },
  {
   "cell_type": "code",
   "execution_count": 2,
   "metadata": {},
   "outputs": [],
   "source": [
    "data = pd.read_csv('train.En.csv')\n",
    "test = pd.read_csv('task_A_En_test.csv')"
   ]
  },
  {
   "cell_type": "code",
   "execution_count": 3,
   "metadata": {},
   "outputs": [
    {
     "data": {
      "text/html": [
       "<div>\n",
       "<style scoped>\n",
       "    .dataframe tbody tr th:only-of-type {\n",
       "        vertical-align: middle;\n",
       "    }\n",
       "\n",
       "    .dataframe tbody tr th {\n",
       "        vertical-align: top;\n",
       "    }\n",
       "\n",
       "    .dataframe thead th {\n",
       "        text-align: right;\n",
       "    }\n",
       "</style>\n",
       "<table border=\"1\" class=\"dataframe\">\n",
       "  <thead>\n",
       "    <tr style=\"text-align: right;\">\n",
       "      <th></th>\n",
       "      <th>text</th>\n",
       "      <th>sarcastic</th>\n",
       "    </tr>\n",
       "  </thead>\n",
       "  <tbody>\n",
       "    <tr>\n",
       "      <th>0</th>\n",
       "      <td>The only thing I got from college is a caffein...</td>\n",
       "      <td>1</td>\n",
       "    </tr>\n",
       "    <tr>\n",
       "      <th>1</th>\n",
       "      <td>I love it when professors draw a big question ...</td>\n",
       "      <td>1</td>\n",
       "    </tr>\n",
       "    <tr>\n",
       "      <th>2</th>\n",
       "      <td>Remember the hundred emails from companies whe...</td>\n",
       "      <td>1</td>\n",
       "    </tr>\n",
       "    <tr>\n",
       "      <th>3</th>\n",
       "      <td>Today my pop-pop told me I was not “forced” to...</td>\n",
       "      <td>1</td>\n",
       "    </tr>\n",
       "    <tr>\n",
       "      <th>4</th>\n",
       "      <td>@VolphanCarol @littlewhitty @mysticalmanatee I...</td>\n",
       "      <td>1</td>\n",
       "    </tr>\n",
       "    <tr>\n",
       "      <th>...</th>\n",
       "      <td>...</td>\n",
       "      <td>...</td>\n",
       "    </tr>\n",
       "    <tr>\n",
       "      <th>3463</th>\n",
       "      <td>The population spike in Chicago in 9 months is...</td>\n",
       "      <td>0</td>\n",
       "    </tr>\n",
       "    <tr>\n",
       "      <th>3464</th>\n",
       "      <td>You'd think in the second to last English clas...</td>\n",
       "      <td>0</td>\n",
       "    </tr>\n",
       "    <tr>\n",
       "      <th>3465</th>\n",
       "      <td>I’m finally surfacing after a holiday to Scotl...</td>\n",
       "      <td>0</td>\n",
       "    </tr>\n",
       "    <tr>\n",
       "      <th>3466</th>\n",
       "      <td>Couldn't be prouder today. Well done to every ...</td>\n",
       "      <td>0</td>\n",
       "    </tr>\n",
       "    <tr>\n",
       "      <th>3467</th>\n",
       "      <td>Overheard as my 13 year old games with a frien...</td>\n",
       "      <td>0</td>\n",
       "    </tr>\n",
       "  </tbody>\n",
       "</table>\n",
       "<p>3467 rows × 2 columns</p>\n",
       "</div>"
      ],
      "text/plain": [
       "                                                   text  sarcastic\n",
       "0     The only thing I got from college is a caffein...          1\n",
       "1     I love it when professors draw a big question ...          1\n",
       "2     Remember the hundred emails from companies whe...          1\n",
       "3     Today my pop-pop told me I was not “forced” to...          1\n",
       "4     @VolphanCarol @littlewhitty @mysticalmanatee I...          1\n",
       "...                                                 ...        ...\n",
       "3463  The population spike in Chicago in 9 months is...          0\n",
       "3464  You'd think in the second to last English clas...          0\n",
       "3465  I’m finally surfacing after a holiday to Scotl...          0\n",
       "3466  Couldn't be prouder today. Well done to every ...          0\n",
       "3467  Overheard as my 13 year old games with a frien...          0\n",
       "\n",
       "[3467 rows x 2 columns]"
      ]
     },
     "execution_count": 3,
     "metadata": {},
     "output_type": "execute_result"
    }
   ],
   "source": [
    "data = data[['tweet', 'sarcastic']]\n",
    "data.rename(columns={'tweet': 'text'}, inplace=True)\n",
    "data['text'] = data['text'].astype('string')\n",
    "data['sarcastic'] = data['sarcastic'].astype('int')\n",
    "data.dropna(inplace=True)\n",
    "data"
   ]
  },
  {
   "attachments": {},
   "cell_type": "markdown",
   "metadata": {},
   "source": [
    "# Tokenize Data"
   ]
  },
  {
   "cell_type": "code",
   "execution_count": 4,
   "metadata": {},
   "outputs": [],
   "source": [
    "from sklearn.model_selection import train_test_split\n",
    "from collections import Counter\n",
    "import re"
   ]
  },
  {
   "cell_type": "code",
   "execution_count": 5,
   "metadata": {},
   "outputs": [],
   "source": [
    "alpha = re.compile('[^a-z ]')"
   ]
  },
  {
   "cell_type": "code",
   "execution_count": 6,
   "metadata": {},
   "outputs": [],
   "source": [
    "class Tokenizer:\n",
    "  def __init__(self, sentences):\n",
    "    words = [w for s in self.get_words(sentences) for w in s]\n",
    "    self.wtoi = {w:i for i,(w,c) in enumerate(Counter(words).most_common(5000))}\n",
    "    self.n_words = len(self.wtoi)\n",
    "  def get_words(self, sentences):\n",
    "    a = [alpha.sub('', s.lower()).split() for s in sentences]\n",
    "    return [[' '.join(p) for p in zip(ws, ws[1:])] if len(ws) > 2 else ' '.join(ws) for ws in a]\n",
    "  def tokenize(self, sentences):\n",
    "    vec = np.zeros((len(sentences), self.n_words))\n",
    "    for i, s in enumerate(self.get_words(sentences)):\n",
    "      for w in s:\n",
    "        if w in self.wtoi:\n",
    "          vec[i][self.wtoi[w]] += 1\n",
    "    return vec\n",
    "\n",
    "tz = Tokenizer(data['text'])\n",
    "x_train, x_valid, y_train, y_valid = train_test_split(tz.tokenize(data['text']), data['sarcastic'], test_size = 0.1)"
   ]
  },
  {
   "attachments": {},
   "cell_type": "markdown",
   "metadata": {},
   "source": [
    "# Setup PyTorch"
   ]
  },
  {
   "cell_type": "code",
   "execution_count": 7,
   "metadata": {},
   "outputs": [],
   "source": [
    "import torch\n",
    "from torch import nn\n",
    "from torch.utils.data import DataLoader\n",
    "from torch.utils.data import Dataset"
   ]
  },
  {
   "cell_type": "code",
   "execution_count": 8,
   "metadata": {},
   "outputs": [
    {
     "name": "stdout",
     "output_type": "stream",
     "text": [
      "Using cuda device\n"
     ]
    }
   ],
   "source": [
    "device = (\n",
    "  \"cuda\"\n",
    "  if torch.cuda.is_available()\n",
    "  else \"mps\"\n",
    "  if torch.backends.mps.is_available()\n",
    "  else \"cpu\"\n",
    ")\n",
    "print(f\"Using {device} device\")"
   ]
  },
  {
   "attachments": {},
   "cell_type": "markdown",
   "metadata": {},
   "source": [
    "# Create a Dataset Object"
   ]
  },
  {
   "cell_type": "code",
   "execution_count": 9,
   "metadata": {},
   "outputs": [],
   "source": [
    "class Tensor_Dataset(Dataset):\n",
    "  def __init__(self, X, y, device):\n",
    "    self.X = torch.tensor(np.array(X), dtype=torch.float, device=device)\n",
    "    self.y = torch.tensor(np.array(y), dtype=torch.float, device=device)\n",
    "\n",
    "  def __len__(self):\n",
    "    return len(self.y)\n",
    "\n",
    "  def __getitem__(self, i):\n",
    "    return self.X[i], self.y[i]\n",
    "\n",
    "train_ds = Tensor_Dataset(x_train, y_train, device=device)\n",
    "valid_ds = Tensor_Dataset(x_valid, y_valid, device=device)"
   ]
  },
  {
   "attachments": {},
   "cell_type": "markdown",
   "metadata": {},
   "source": [
    "# Train Model"
   ]
  },
  {
   "cell_type": "code",
   "execution_count": 10,
   "metadata": {},
   "outputs": [
    {
     "name": "stdout",
     "output_type": "stream",
     "text": [
      "NeuralNetwork(\n",
      "  (model): Sequential(\n",
      "    (0): Linear(in_features=5000, out_features=5000, bias=True)\n",
      "    (1): ReLU()\n",
      "    (2): Linear(in_features=5000, out_features=5000, bias=True)\n",
      "    (3): ReLU()\n",
      "    (4): Linear(in_features=5000, out_features=5000, bias=True)\n",
      "    (5): ReLU()\n",
      "    (6): Linear(in_features=5000, out_features=5000, bias=True)\n",
      "    (7): ReLU()\n",
      "    (8): Linear(in_features=5000, out_features=2048, bias=True)\n",
      "    (9): ReLU()\n",
      "    (10): Linear(in_features=2048, out_features=1024, bias=True)\n",
      "    (11): ReLU()\n",
      "    (12): Linear(in_features=1024, out_features=128, bias=True)\n",
      "    (13): ReLU()\n",
      "    (14): Linear(in_features=128, out_features=1, bias=True)\n",
      "  )\n",
      "  (criteria): BCEWithLogitsLoss()\n",
      ")\n"
     ]
    }
   ],
   "source": [
    "class NeuralNetwork(nn.Module):\n",
    "  def __init__(self, device):\n",
    "    super().__init__()\n",
    "    self.model = nn.Sequential(\n",
    "      nn.Linear(5000, 5000),\n",
    "      nn.ReLU(),\n",
    "      nn.Linear(5000, 5000),\n",
    "      nn.ReLU(),\n",
    "      nn.Linear(5000, 5000),\n",
    "      nn.ReLU(),\n",
    "      nn.Linear(5000, 5000),\n",
    "      nn.ReLU(),\n",
    "      nn.Linear(5000, 2048),\n",
    "      nn.ReLU(),\n",
    "      nn.Linear(2048, 1024),\n",
    "      nn.ReLU(),\n",
    "      nn.Linear(1024, 128),\n",
    "      nn.ReLU(),\n",
    "      nn.Linear(128, 1),\n",
    "    )\n",
    "    self.optimizer = torch.optim.AdamW(self.parameters())\n",
    "    self.criteria = nn.BCEWithLogitsLoss()\n",
    "    self.to(device=device)\n",
    "    self.device = device\n",
    "  def forward(self, X):\n",
    "    logits = self.model(X)\n",
    "    return logits\n",
    "  def fit(self, X, epochs, batch_size, print_freq=100):\n",
    "    dataloader = DataLoader(X, batch_size, shuffle=True)\n",
    "    for epoch in range(0, epochs):\n",
    "      self.train()\n",
    "      avg_loss = 0\n",
    "      for step, (x, y) in enumerate(dataloader):\n",
    "        # Training\n",
    "        self.optimizer.zero_grad()\n",
    "        logits = self(x)\n",
    "        loss = self.criteria(logits, y.unsqueeze(1))\n",
    "        loss.backward()\n",
    "        self.optimizer.step()\n",
    "        # Logging\n",
    "        avg_loss += loss.item()\n",
    "        if step % print_freq == 1:\n",
    "          print('epoch: {} batch: {} loss: {}'.format(epoch, step, avg_loss / print_freq))\n",
    "          avg_loss = 0\n",
    "  def predict(self, X):\n",
    "    logits = self(torch.tensor(X, dtype=torch.float, device=self.device))\n",
    "    return torch.clamp(logits, 0, 1).cpu().detach().numpy().flatten().round().astype(int)\n",
    "\n",
    "model = NeuralNetwork(device=device)\n",
    "print(model)"
   ]
  },
  {
   "cell_type": "code",
   "execution_count": 16,
   "metadata": {},
   "outputs": [
    {
     "name": "stdout",
     "output_type": "stream",
     "text": [
      "epoch: 0 batch: 1 loss: 5.231396667659283e-05\n",
      "epoch: 1 batch: 1 loss: 7.647320628166198e-05\n",
      "epoch: 2 batch: 1 loss: 8.596857078373432e-05\n",
      "epoch: 3 batch: 1 loss: 1.3636870309710502e-05\n",
      "epoch: 4 batch: 1 loss: 6.632392853498459e-05\n"
     ]
    }
   ],
   "source": [
    "model.fit(train_ds, epochs=5, batch_size=128, print_freq=1000)"
   ]
  },
  {
   "cell_type": "code",
   "execution_count": 17,
   "metadata": {},
   "outputs": [
    {
     "data": {
      "text/plain": [
       "0.6685878962536023"
      ]
     },
     "execution_count": 17,
     "metadata": {},
     "output_type": "execute_result"
    }
   ],
   "source": [
    "np.average(model.predict(x_valid) == np.array(y_valid))"
   ]
  },
  {
   "attachments": {},
   "cell_type": "markdown",
   "metadata": {},
   "source": [
    "# Evaluate"
   ]
  },
  {
   "cell_type": "code",
   "execution_count": 18,
   "metadata": {},
   "outputs": [
    {
     "data": {
      "text/plain": [
       "0.2042648709315376"
      ]
     },
     "execution_count": 18,
     "metadata": {},
     "output_type": "execute_result"
    }
   ],
   "source": [
    "from sklearn.metrics import f1_score\n",
    "# Testing Randomness\n",
    "f1_score(np.random.randint(0, 2, test['sarcastic'].shape), test['sarcastic'])"
   ]
  },
  {
   "attachments": {},
   "cell_type": "markdown",
   "metadata": {},
   "source": [
    "## Testing our model"
   ]
  },
  {
   "cell_type": "code",
   "execution_count": 19,
   "metadata": {},
   "outputs": [
    {
     "data": {
      "text/plain": [
       "0.08"
      ]
     },
     "execution_count": 19,
     "metadata": {},
     "output_type": "execute_result"
    }
   ],
   "source": [
    "f1_score(model.predict(x_valid), y_valid)"
   ]
  },
  {
   "cell_type": "code",
   "execution_count": 20,
   "metadata": {},
   "outputs": [
    {
     "data": {
      "text/plain": [
       "0.17989417989417988"
      ]
     },
     "execution_count": 20,
     "metadata": {},
     "output_type": "execute_result"
    }
   ],
   "source": [
    "f1_score(model.predict(tz.tokenize(test['text'])), test['sarcastic'])"
   ]
  },
  {
   "cell_type": "code",
   "execution_count": null,
   "metadata": {},
   "outputs": [],
   "source": []
  }
 ],
 "metadata": {
  "kernelspec": {
   "display_name": "Python 3",
   "language": "python",
   "name": "python3"
  },
  "language_info": {
   "codemirror_mode": {
    "name": "ipython",
    "version": 3
   },
   "file_extension": ".py",
   "mimetype": "text/x-python",
   "name": "python",
   "nbconvert_exporter": "python",
   "pygments_lexer": "ipython3",
   "version": "3.9.13"
  },
  "orig_nbformat": 4
 },
 "nbformat": 4,
 "nbformat_minor": 2
}
